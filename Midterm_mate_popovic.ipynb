{
 "cells": [
  {
   "cell_type": "code",
   "execution_count": 1,
   "metadata": {},
   "outputs": [],
   "source": [
    "! pip install -qU langchain langchain-core langchain-community langchain-openai"
   ]
  },
  {
   "cell_type": "code",
   "execution_count": 2,
   "metadata": {},
   "outputs": [],
   "source": [
    "! pip install -qU qdrant-client protobuf==4.25.3"
   ]
  },
  {
   "cell_type": "code",
   "execution_count": 3,
   "metadata": {},
   "outputs": [],
   "source": [
    "! pip install -qU tiktoken pymupdf"
   ]
  },
  {
   "cell_type": "code",
   "execution_count": 4,
   "metadata": {},
   "outputs": [],
   "source": [
    "import os\n",
    "import getpass\n",
    "\n",
    "os.environ[\"OPENAI_API_KEY\"] = getpass.getpass(\"OpenAI API Key:\")"
   ]
  },
  {
   "cell_type": "code",
   "execution_count": 5,
   "metadata": {},
   "outputs": [],
   "source": [
    "from langchain_openai import ChatOpenAI\n",
    "\n",
    "openai_chat_model = ChatOpenAI(model=\"gpt-4o\")"
   ]
  },
  {
   "cell_type": "code",
   "execution_count": 7,
   "metadata": {},
   "outputs": [],
   "source": [
    "from langchain.document_loaders import PyMuPDFLoader\n",
    "\n",
    "docs = PyMuPDFLoader(\"data/United states securities and exchange commission 10-Q.pdf\").load()"
   ]
  },
  {
   "cell_type": "code",
   "execution_count": 8,
   "metadata": {},
   "outputs": [],
   "source": [
    "import tiktoken\n",
    "from langchain.text_splitter import RecursiveCharacterTextSplitter\n",
    "\n",
    "def tiktoken_len(text):\n",
    "    tokens = tiktoken.encoding_for_model(\"gpt-4o\").encode(\n",
    "        text,\n",
    "    )\n",
    "    return len(tokens)\n",
    "\n",
    "text_splitter = RecursiveCharacterTextSplitter(\n",
    "    chunk_size = 200,\n",
    "    chunk_overlap = 0,\n",
    "    length_function = tiktoken_len,\n",
    ")\n",
    "\n",
    "split_chunks = text_splitter.split_documents(docs)"
   ]
  },
  {
   "cell_type": "code",
   "execution_count": 9,
   "metadata": {},
   "outputs": [
    {
     "data": {
      "text/plain": [
       "229"
      ]
     },
     "execution_count": 9,
     "metadata": {},
     "output_type": "execute_result"
    }
   ],
   "source": [
    "len(split_chunks)"
   ]
  },
  {
   "cell_type": "code",
   "execution_count": 10,
   "metadata": {},
   "outputs": [
    {
     "name": "stdout",
     "output_type": "stream",
     "text": [
      "199\n"
     ]
    }
   ],
   "source": [
    "max_chunk_length = 0\n",
    "\n",
    "for chunk in split_chunks:\n",
    "  max_chunk_length = max(max_chunk_length, tiktoken_len(chunk.page_content))\n",
    "\n",
    "print(max_chunk_length)"
   ]
  },
  {
   "cell_type": "code",
   "execution_count": 11,
   "metadata": {},
   "outputs": [],
   "source": [
    "from langchain_openai.embeddings import OpenAIEmbeddings\n",
    "\n",
    "embedding_model = OpenAIEmbeddings(model=\"text-embedding-3-small\")"
   ]
  },
  {
   "cell_type": "code",
   "execution_count": 12,
   "metadata": {},
   "outputs": [],
   "source": [
    "from langchain_community.vectorstores import Qdrant\n",
    "\n",
    "qdrant_vectorstore = Qdrant.from_documents(\n",
    "    split_chunks,\n",
    "    embedding_model,\n",
    "    location=\":memory:\",\n",
    "    collection_name=\"Airbnb\",\n",
    ")"
   ]
  },
  {
   "cell_type": "code",
   "execution_count": 13,
   "metadata": {},
   "outputs": [],
   "source": [
    "qdrant_retriever = qdrant_vectorstore.as_retriever()"
   ]
  },
  {
   "cell_type": "code",
   "execution_count": 14,
   "metadata": {},
   "outputs": [],
   "source": [
    "\n",
    "from langchain_core.prompts import ChatPromptTemplate\n",
    "\n",
    "system_template = \"You are an expert in financial statements. Use the provided context to answer the user's query. You may not answer the user's query unless there is specific context in the following text. If you do not know the answer, or cannot answer, please respond with I don't know.\"\n",
    "human_template = \"{content}\"\n",
    "\n",
    "chat_prompt = ChatPromptTemplate.from_messages([\n",
    "    (\"system\", system_template),\n",
    "    (\"human\", human_template)\n",
    "])\n",
    "\n",
    "\n",
    "\n",
    "RAG_PROMPT = \"\"\"\n",
    "CONTEXT:\n",
    "{context}\n",
    "\n",
    "QUERY:\n",
    "{question}\n",
    "\n",
    "Never use the phrase \"based on provided context\"\n",
    "\"\"\"\n",
    "\n",
    "rag_prompt = ChatPromptTemplate.from_template(RAG_PROMPT)"
   ]
  },
  {
   "cell_type": "code",
   "execution_count": 15,
   "metadata": {},
   "outputs": [],
   "source": [
    "from operator import itemgetter\n",
    "from langchain.schema.output_parser import StrOutputParser\n",
    "from langchain.schema.runnable import RunnablePassthrough\n",
    "\n",
    "retrieval_augmented_qa_chain = (\n",
    "    # INVOKE CHAIN WITH: {\"question\" : \"<<SOME USER QUESTION>>\"}\n",
    "    # \"question\" : populated by getting the value of the \"question\" key\n",
    "    # \"context\"  : populated by getting the value of the \"question\" key and chaining it into the base_retriever\n",
    "    {\"context\": itemgetter(\"question\") | qdrant_retriever, \"question\": itemgetter(\"question\")}\n",
    "    # \"context\"  : is assigned to a RunnablePassthrough object (will not be called or considered in the next step)\n",
    "    #              by getting the value of the \"context\" key from the previous step\n",
    "    | RunnablePassthrough.assign(context=itemgetter(\"context\"))\n",
    "    # \"response\" : the \"context\" and \"question\" values are used to format our prompt object and then piped\n",
    "    #              into the LLM and stored in a key called \"response\"\n",
    "    # \"context\"  : populated by getting the value of the \"context\" key from the previous step\n",
    "    | {\"response\": rag_prompt | openai_chat_model, \"context\": itemgetter(\"context\")}\n",
    ")"
   ]
  },
  {
   "cell_type": "code",
   "execution_count": 16,
   "metadata": {},
   "outputs": [],
   "source": [
    "response = retrieval_augmented_qa_chain.invoke({\"question\" : \"What is the 'maximum number of shares to be sold under the 10b5-1 Trading plan' by Brian Chesky?\"})"
   ]
  },
  {
   "cell_type": "code",
   "execution_count": 17,
   "metadata": {},
   "outputs": [
    {
     "data": {
      "text/plain": [
       "'The maximum number of shares to be sold under the 10b5-1 Trading Plan by Brian Chesky is 1,146,000.'"
      ]
     },
     "execution_count": 17,
     "metadata": {},
     "output_type": "execute_result"
    }
   ],
   "source": [
    "response[\"response\"].content"
   ]
  },
  {
   "cell_type": "code",
   "execution_count": 18,
   "metadata": {},
   "outputs": [
    {
     "name": "stdout",
     "output_type": "stream",
     "text": [
      "Context:\n",
      "page_content='Table of Contents\\nItem 5. Other Information\\nDirector and Officer 10b5-1 Trading Plans (“10b5-1 Plans”)\\nThe following table sets forth the material terms of 10b5-1 Plans intended to satisfy the affirmative defense conditions of Rule 10b5–1(c) that were adopted, terminated, or modified\\nby our directors and officers during the three months ended March\\xa031, 2024:\\nName and Title of Director or Officer\\nAction\\n\\xa0Date\\nExpiration Date\\nMaximum Number of\\nShares to be Sold\\nUnder the Plan\\nDavid Bernstein, Chief Accounting Officer\\nAdopt\\n2/22/2024\\n1/27/2025\\n41,000\\nBrian Chesky, Chief Executive Officer and Director\\nAdopt\\n2/28/2024\\n11/11/2024\\n1,146,000\\nJoseph Gebbia, Director\\nAdopt\\n2/29/2024' metadata={'source': 'data/United states securities and exchange commission 10-Q.pdf', 'file_path': 'data/United states securities and exchange commission 10-Q.pdf', 'page': 32, 'total_pages': 54, 'format': 'PDF 1.4', 'title': '0001559720-24-000017', 'author': 'EDGAR® Online LLC, a subsidiary of OTC Markets Group', 'subject': 'Form 10-Q filed on 2024-05-08 for the period ending 2024-03-31', 'keywords': '0001559720-24-000017; ; 10-Q', 'creator': 'EDGAR Filing HTML Converter', 'producer': 'EDGRpdf Service w/ EO.Pdf 22.0.40.0', 'creationDate': \"D:20240508161757-04'00'\", 'modDate': \"D:20240508161807-04'00'\", 'trapped': '', 'encryption': 'Standard V2 R3 128-bit RC4', '_id': '70c2d745b3cb4d0982ea66d37c872b01', '_collection_name': 'Airbnb'}\n",
      "----\n",
      "Context:\n",
      "page_content='trades or accelerated share repurchase transactions or by any combination of such methods. Any such repurchases will be made from time to time subject to market and economic\\nconditions, applicable legal requirements and other relevant factors. These share repurchase programs do not obligate the Company to repurchase any specific number of shares\\nand may be modified, suspended or terminated at any time at the Company’s discretion.\\nDuring the three months ended March\\xa031, 2024, the Company repurchased and subsequently retired 4.7 million shares of Class A common stock for $750 million, which completed\\nthe repurchases authorized under the share repurchase program announced in May 2023. As of March\\xa031, 2024, the Company had $6.0\\xa0billion available to repurchase shares of\\nClass A common stock under its share repurchase program.\\n19' metadata={'source': 'data/United states securities and exchange commission 10-Q.pdf', 'file_path': 'data/United states securities and exchange commission 10-Q.pdf', 'page': 20, 'total_pages': 54, 'format': 'PDF 1.4', 'title': '0001559720-24-000017', 'author': 'EDGAR® Online LLC, a subsidiary of OTC Markets Group', 'subject': 'Form 10-Q filed on 2024-05-08 for the period ending 2024-03-31', 'keywords': '0001559720-24-000017; ; 10-Q', 'creator': 'EDGAR Filing HTML Converter', 'producer': 'EDGRpdf Service w/ EO.Pdf 22.0.40.0', 'creationDate': \"D:20240508161757-04'00'\", 'modDate': \"D:20240508161807-04'00'\", 'trapped': '', 'encryption': 'Standard V2 R3 128-bit RC4', '_id': 'd23f138cb65d42b490efe05b007973dc', '_collection_name': 'Airbnb'}\n",
      "----\n",
      "Context:\n",
      "page_content='Table of Contents\\nAirbnb, Inc.\\nNotes to Condensed Consolidated Financial Statements (unaudited)\\nAdditionally, the following securities were not included in the computation of diluted shares outstanding because the effect would be anti-dilutive (in millions):\\nThree Months Ended\\nMarch 31,\\n2023\\n2024\\nStock options\\n1\\xa0\\n2\\xa0\\nRSUs\\n8\\xa0\\n4\\xa0\\nTotal\\n9\\xa0\\n6\\xa0\\nShare Repurchase Program\\nIn May 2023 and February 2024, the Company announced that its board of directors approved share repurchase programs to purchase up to $2.5\\xa0billion and $6.0\\xa0billion of the\\nCompany’s Class A common stock, respectively.\\nShare repurchases under these share repurchase programs may be made through a variety of methods, such as open market purchases, privately negotiated transactions, block' metadata={'source': 'data/United states securities and exchange commission 10-Q.pdf', 'file_path': 'data/United states securities and exchange commission 10-Q.pdf', 'page': 20, 'total_pages': 54, 'format': 'PDF 1.4', 'title': '0001559720-24-000017', 'author': 'EDGAR® Online LLC, a subsidiary of OTC Markets Group', 'subject': 'Form 10-Q filed on 2024-05-08 for the period ending 2024-03-31', 'keywords': '0001559720-24-000017; ; 10-Q', 'creator': 'EDGAR Filing HTML Converter', 'producer': 'EDGRpdf Service w/ EO.Pdf 22.0.40.0', 'creationDate': \"D:20240508161757-04'00'\", 'modDate': \"D:20240508161807-04'00'\", 'trapped': '', 'encryption': 'Standard V2 R3 128-bit RC4', '_id': '15fa3c421b814f5ebac1d8547c82d04a', '_collection_name': 'Airbnb'}\n",
      "----\n",
      "Context:\n",
      "page_content='Includes broker commissions.\\n(2)\\nOn May 9, 2023 and February 13, 2024, we announced that our board of directors approved share repurchase programs with authorization to purchase up to $2.5\\xa0billion and\\n$6.0\\xa0billion of our Class A common stock, respectively, at management’s discretion. The Company has repurchased the full amount of shares authorized for repurchase under\\nthe May 2023 repurchase program. The share repurchase programs do not have an expiration date, do not obligate us to repurchase any specific number of shares, and may\\nbe modified, suspended or terminated at any time at our discretion.\\nItem 3. Defaults Upon Senior Securities\\nNone.\\nItem 4. Mine Safety Disclosures\\nNot applicable.\\n(1)\\n(2)\\n29' metadata={'source': 'data/United states securities and exchange commission 10-Q.pdf', 'file_path': 'data/United states securities and exchange commission 10-Q.pdf', 'page': 31, 'total_pages': 54, 'format': 'PDF 1.4', 'title': '0001559720-24-000017', 'author': 'EDGAR® Online LLC, a subsidiary of OTC Markets Group', 'subject': 'Form 10-Q filed on 2024-05-08 for the period ending 2024-03-31', 'keywords': '0001559720-24-000017; ; 10-Q', 'creator': 'EDGAR Filing HTML Converter', 'producer': 'EDGRpdf Service w/ EO.Pdf 22.0.40.0', 'creationDate': \"D:20240508161757-04'00'\", 'modDate': \"D:20240508161807-04'00'\", 'trapped': '', 'encryption': 'Standard V2 R3 128-bit RC4', '_id': 'fa2c466b4d9f446d8a036ad441e26e53', '_collection_name': 'Airbnb'}\n",
      "----\n"
     ]
    }
   ],
   "source": [
    "for context in response[\"context\"]:\n",
    "  print(\"Context:\")\n",
    "  print(context)\n",
    "  print(\"----\")"
   ]
  },
  {
   "cell_type": "code",
   "execution_count": 21,
   "metadata": {},
   "outputs": [],
   "source": [
    "response = retrieval_augmented_qa_chain.invoke({\"question\" : \"How are you doing?\"})"
   ]
  },
  {
   "cell_type": "code",
   "execution_count": 22,
   "metadata": {},
   "outputs": [
    {
     "data": {
      "text/plain": [
       "{'response': AIMessage(content=\"I'm doing well, thank you! How can I assist you today?\", response_metadata={'token_usage': {'completion_tokens': 14, 'prompt_tokens': 1824, 'total_tokens': 1838}, 'model_name': 'gpt-4o-2024-05-13', 'system_fingerprint': 'fp_3e7d703517', 'finish_reason': 'stop', 'logprobs': None}, id='run-ba78e693-adb4-45cc-95b9-c7e02c040f81-0', usage_metadata={'input_tokens': 1824, 'output_tokens': 14, 'total_tokens': 1838}),\n",
       " 'context': [Document(page_content='Table of Contents\\nItem 3. Quantitative and Qualitative Disclosures About Market Risk\\nThere have been no material changes in our market risk during the three months ended March 31, 2024. For additional information, see Part II, Item 7A. \"Quantitative and\\nQualitative Disclosures About Market Risk\" in our Annual Report on Form 10-K for the year ended December 31, 2023.\\nItem 4. Controls and Procedures\\nEvaluation of Disclosure Controls and Procedures\\nOur management, with the participation of our principal executive officer and principal financial officer, conducted an evaluation of the effectiveness of the design and operation of\\nour disclosure controls and procedures, as defined in Rules 13a-15(e) and 15d-15(e) under the Exchange Act, as of the end of the period covered by this Quarterly Report on Form', metadata={'source': 'data/United states securities and exchange commission 10-Q.pdf', 'file_path': 'data/United states securities and exchange commission 10-Q.pdf', 'page': 30, 'total_pages': 54, 'format': 'PDF 1.4', 'title': '0001559720-24-000017', 'author': 'EDGAR® Online LLC, a subsidiary of OTC Markets Group', 'subject': 'Form 10-Q filed on 2024-05-08 for the period ending 2024-03-31', 'keywords': '0001559720-24-000017; ; 10-Q', 'creator': 'EDGAR Filing HTML Converter', 'producer': 'EDGRpdf Service w/ EO.Pdf 22.0.40.0', 'creationDate': \"D:20240508161757-04'00'\", 'modDate': \"D:20240508161807-04'00'\", 'trapped': '', 'encryption': 'Standard V2 R3 128-bit RC4', '_id': '94409b6ab7704086975cc4de2b0a8a38', '_collection_name': 'Airbnb'}),\n",
       "  Document(page_content='Table of Contents\\nPART II - OTHER INFORMATION\\nItem 1. Legal Proceedings\\nWe are currently involved in, and may in the future be involved in, legal proceedings, claims, and government investigations in the ordinary course of business. These include\\nproceedings, claims, and investigations relating to, among other things, regulatory matters, commercial matters, intellectual property, competition, tax, employment, pricing,\\ndiscrimination, consumer rights, personal injury, and property rights. See Note 9, Commitments and Contingencies, to our unaudited condensed consolidated financial statements\\nincluded in Item 1 of Part 1 of this Quarterly Report on Form 10-Q.\\nDepending on the nature of the proceeding, claim, or investigation, we may be subject to monetary damage awards, fines, penalties, or injunctive orders. Furthermore, the outcome', metadata={'source': 'data/United states securities and exchange commission 10-Q.pdf', 'file_path': 'data/United states securities and exchange commission 10-Q.pdf', 'page': 31, 'total_pages': 54, 'format': 'PDF 1.4', 'title': '0001559720-24-000017', 'author': 'EDGAR® Online LLC, a subsidiary of OTC Markets Group', 'subject': 'Form 10-Q filed on 2024-05-08 for the period ending 2024-03-31', 'keywords': '0001559720-24-000017; ; 10-Q', 'creator': 'EDGAR Filing HTML Converter', 'producer': 'EDGRpdf Service w/ EO.Pdf 22.0.40.0', 'creationDate': \"D:20240508161757-04'00'\", 'modDate': \"D:20240508161807-04'00'\", 'trapped': '', 'encryption': 'Standard V2 R3 128-bit RC4', '_id': '67b195a007094d7da79fe6fa25577422', '_collection_name': 'Airbnb'}),\n",
       "  Document(page_content='Table of Contents\\nItem 2. Management’s Discussion and Analysis of Financial Condition and Results of Operations\\nYou should read the following discussion and analysis of our financial condition and results of operations together with our unaudited condensed consolidated financial statements\\nand related notes included elsewhere in this Quarterly Report on Form 10-Q and with our audited consolidated financial statements included in our Annual Report on Form 10-K for\\nthe fiscal year ended December\\xa031, 2023 (the “2023 Annual Report”). This discussion contains forward-looking statements based upon current expectations that involve risks and\\nuncertainties. Our actual results may differ materially from those anticipated in these forward-looking statements as a result of various factors, including those set forth under the\\nsection titled “Risk Factors” of our 2023 Annual Report. Our historical results are not necessarily indicative of the results that may be expected for any period in the future.\\nOverview', metadata={'source': 'data/United states securities and exchange commission 10-Q.pdf', 'file_path': 'data/United states securities and exchange commission 10-Q.pdf', 'page': 21, 'total_pages': 54, 'format': 'PDF 1.4', 'title': '0001559720-24-000017', 'author': 'EDGAR® Online LLC, a subsidiary of OTC Markets Group', 'subject': 'Form 10-Q filed on 2024-05-08 for the period ending 2024-03-31', 'keywords': '0001559720-24-000017; ; 10-Q', 'creator': 'EDGAR Filing HTML Converter', 'producer': 'EDGRpdf Service w/ EO.Pdf 22.0.40.0', 'creationDate': \"D:20240508161757-04'00'\", 'modDate': \"D:20240508161807-04'00'\", 'trapped': '', 'encryption': 'Standard V2 R3 128-bit RC4', '_id': '744406eca8754d528d4b6523c9ae698d', '_collection_name': 'Airbnb'}),\n",
       "  Document(page_content='Sales and Marketing\\nThree Months Ended\\nMarch 31,\\n2023\\n2024\\n% Change\\n(in millions, except percentages)\\nBrand and performance marketing\\n$\\n307\\xa0\\n$\\n370\\xa0\\n21\\xa0%\\nField operations and policy\\n143\\xa0\\n144\\xa0\\n1\\xa0%\\nTotal sales and marketing\\n$\\n450\\xa0\\n$\\n514\\xa0\\n14\\xa0%\\nPercentage of revenue\\n25\\xa0%\\n24\\xa0%\\nSales and marketing expense increased $64 million, or 14%, for the three months ended March\\xa031, 2024, compared to the same period in the prior year. The increase was primarily\\ndue to a $60 million increase in marketing activities associated with ongoing marketing campaigns, and search engine marketing.\\nGeneral and Administrative\\nThree Months Ended\\nMarch 31,\\n2023\\n2024\\n% Change\\n(in millions, except percentages)\\nGeneral and administrative\\n$\\n243\\xa0\\n$', metadata={'source': 'data/United states securities and exchange commission 10-Q.pdf', 'file_path': 'data/United states securities and exchange commission 10-Q.pdf', 'page': 26, 'total_pages': 54, 'format': 'PDF 1.4', 'title': '0001559720-24-000017', 'author': 'EDGAR® Online LLC, a subsidiary of OTC Markets Group', 'subject': 'Form 10-Q filed on 2024-05-08 for the period ending 2024-03-31', 'keywords': '0001559720-24-000017; ; 10-Q', 'creator': 'EDGAR Filing HTML Converter', 'producer': 'EDGRpdf Service w/ EO.Pdf 22.0.40.0', 'creationDate': \"D:20240508161757-04'00'\", 'modDate': \"D:20240508161807-04'00'\", 'trapped': '', 'encryption': 'Standard V2 R3 128-bit RC4', '_id': '2cebfc3b295c4f4ba4fb1b304486b9cd', '_collection_name': 'Airbnb'})]}"
      ]
     },
     "execution_count": 22,
     "metadata": {},
     "output_type": "execute_result"
    }
   ],
   "source": [
    "response"
   ]
  }
 ],
 "metadata": {
  "kernelspec": {
   "display_name": "llmops-course2",
   "language": "python",
   "name": "python3"
  },
  "language_info": {
   "codemirror_mode": {
    "name": "ipython",
    "version": 3
   },
   "file_extension": ".py",
   "mimetype": "text/x-python",
   "name": "python",
   "nbconvert_exporter": "python",
   "pygments_lexer": "ipython3",
   "version": "3.11.9"
  }
 },
 "nbformat": 4,
 "nbformat_minor": 2
}
